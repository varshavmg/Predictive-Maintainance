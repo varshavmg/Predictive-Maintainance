{
  "nbformat": 4,
  "nbformat_minor": 0,
  "metadata": {
    "colab": {
      "provenance": [],
      "gpuType": "T4",
      "include_colab_link": true
    },
    "kernelspec": {
      "name": "python3",
      "display_name": "Python 3"
    },
    "language_info": {
      "name": "python"
    },
    "accelerator": "GPU"
  },
  "cells": [
    {
      "cell_type": "markdown",
      "metadata": {
        "id": "view-in-github",
        "colab_type": "text"
      },
      "source": [
        "<a href=\"https://colab.research.google.com/github/varshavmg/Predictive-Maintainance/blob/main/PdM.ipynb\" target=\"_parent\"><img src=\"https://colab.research.google.com/assets/colab-badge.svg\" alt=\"Open In Colab\"/></a>"
      ]
    },
    {
      "cell_type": "code",
      "source": [
        "import pandas as pd\n",
        "import numpy as np\n",
        "from sklearn.model_selection import train_test_split, GridSearchCV, cross_val_score\n",
        "from sklearn.linear_model import LogisticRegression\n",
        "from sklearn.tree import DecisionTreeClassifier\n",
        "from sklearn.ensemble import RandomForestClassifier, GradientBoostingClassifier\n",
        "from sklearn.svm import SVC\n",
        "from sklearn.neural_network import MLPClassifier\n",
        "from sklearn.preprocessing import StandardScaler\n",
        "from sklearn.metrics import classification_report, accuracy_score, precision_score, recall_score, f1_score, roc_auc_score, confusion_matrix\n",
        "import matplotlib.pyplot as plt\n",
        "import seaborn as sns\n",
        "import joblib\n",
        "import lightgbm as lgb\n",
        "import xgboost as xgb\n",
        "\n",
        "path = '/predictive_maintenance.csv'\n",
        "data = pd.read_csv(path)\n",
        "\n",
        "X = data[['Air temperature [K]', 'Process temperature [K]', 'Rotational speed [rpm]', 'Torque [Nm]', 'Tool wear [min]']]\n",
        "y = data['Target']\n",
        "\n",
        "X.fillna(X.mean(), inplace=True)\n",
        "\n",
        "scaler = StandardScaler()\n",
        "X_scaled = scaler.fit_transform(X)\n",
        "\n",
        "joblib.dump(scaler, \"scaler.pkl\")\n",
        "\n",
        "X_train, X_test, y_train, y_test = train_test_split(X_scaled, y, test_size=0.3, random_state=42)\n",
        "\n",
        "models = {\n",
        "    \"Logistic Regression\": LogisticRegression(max_iter=1000, random_state=42),\n",
        "    \"Decision Tree\": DecisionTreeClassifier(random_state=42),\n",
        "    \"Random Forest\": RandomForestClassifier(random_state=42),\n",
        "    \"Gradient Boosting\": GradientBoostingClassifier(random_state=42),\n",
        "    \"SVM\": SVC(probability=True, random_state=42),\n",
        "    \"Neural Network\": MLPClassifier(max_iter=500, random_state=42),\n",
        "    \"LightGBM\": lgb.LGBMClassifier(random_state=42),\n",
        "    \"XGBoost\": xgb.XGBClassifier(random_state=42, use_label_encoder=False, eval_metric='logloss') # Added eval_metric to avoid warning\n",
        "}\n",
        "\n",
        "param_grid_rf = {\n",
        "    \"n_estimators\": [50, 100, 200],\n",
        "    \"max_depth\": [None, 10, 20, 30],\n",
        "    \"min_samples_split\": [2, 5, 10],\n",
        "    \"min_samples_leaf\": [1, 2, 4]\n",
        "}\n",
        "\n",
        "grid_search_rf = GridSearchCV(\n",
        "    estimator=RandomForestClassifier(random_state=42),\n",
        "    param_grid=param_grid_rf,\n",
        "    cv=5,  # 5-fold cross-validation\n",
        "    scoring=\"accuracy\",\n",
        "    verbose=2,\n",
        "    n_jobs=-1\n",
        ")\n",
        "grid_search_rf.fit(X_train, y_train)\n",
        "print(\"Best Parameters for Random Forest:\", grid_search_rf.best_params_)\n",
        "print(\"Best Score for Random Forest:\", grid_search_rf.best_score_)\n",
        "\n",
        "best_rf_model = grid_search_rf.best_estimator_\n",
        "\n",
        "results = []\n",
        "for name, model in models.items():\n",
        "    model.fit(X_train, y_train)\n",
        "    # Predict on the test set\n",
        "    y_pred = model.predict(X_test)\n",
        "    y_pred_proba = model.predict_proba(X_test)[:, 1] if hasattr(model, \"predict_proba\") else None\n",
        "\n",
        "    accuracy = accuracy_score(y_test, y_pred)\n",
        "    precision = precision_score(y_test, y_pred, average=\"binary\")\n",
        "    recall = recall_score(y_test, y_pred, average=\"binary\")\n",
        "    f1 = f1_score(y_test, y_pred, average=\"binary\")\n",
        "    roc_auc = roc_auc_score(y_test, y_pred_proba) if y_pred_proba is not None else None\n",
        "\n",
        "    results.append({\n",
        "        \"Model\": name,\n",
        "        \"Accuracy\": f\"{accuracy:.4f}\",\n",
        "        \"Precision\": f\"{precision:.4f}\",\n",
        "        \"Recall\": f\"{recall:.4f}\",\n",
        "        \"F1 Score\": f\"{f1:.4f}\",\n",
        "        \"ROC-AUC\": f\"{roc_auc:.4f}\" if roc_auc is not None else \"N/A\"\n",
        "    })\n",
        "\n",
        "results_df = pd.DataFrame(results)\n",
        "print(\"Summary of Evaluation Metrics for All Models:\")\n",
        "print(results_df)\n",
        "\n",
        "best_model = results_df.loc[results_df[\"F1 Score\"].astype(float).idxmax()]\n",
        "print(\"\\nBest Model based on F1 Score:\")\n",
        "print(best_model)\n",
        "cm = confusion_matrix(y_test, best_rf_model.predict(X_test))\n",
        "plt.figure(figsize=(6, 4))\n",
        "sns.heatmap(cm, annot=True, fmt='d', cmap='Blues', xticklabels=[\"No Failure\", \"Failure\"], yticklabels=[\"No Failure\", \"Failure\"])\n",
        "plt.title('Confusion Matrix: Best Random Forest Model')\n",
        "plt.ylabel('Actual')\n",
        "plt.xlabel('Predicted')\n",
        "plt.show()\n",
        "\n",
        "joblib.dump(best_rf_model, \"best_random_forest_model.pkl\")\n",
        "\n",
        "loaded_model = joblib.load(\"best_random_forest_model.pkl\")\n",
        "new_predictions = loaded_model.predict(X_test)\n",
        "print(\"Predictions from Loaded Model:\", new_predictions)\n",
        "\n",
        "cv_scores = cross_val_score(best_rf_model, X_scaled, y, cv=5, scoring=\"accuracy\")\n",
        "print(\"Cross-validation scores:\", cv_scores)\n",
        "print(\"Mean CV Accuracy:\", cv_scores.mean())"
      ],
      "metadata": {
        "id": "n7nWpXAaGtOA",
        "colab": {
          "base_uri": "https://localhost:8080/",
          "height": 1000
        },
        "outputId": "fab5f4ae-f3ea-4003-f391-a80e29d36162"
      },
      "execution_count": 6,
      "outputs": [
        {
          "output_type": "stream",
          "name": "stdout",
          "text": [
            "Fitting 5 folds for each of 108 candidates, totalling 540 fits\n"
          ]
        },
        {
          "output_type": "stream",
          "name": "stderr",
          "text": [
            "/tmp/ipython-input-3834037525.py:23: SettingWithCopyWarning: \n",
            "A value is trying to be set on a copy of a slice from a DataFrame\n",
            "\n",
            "See the caveats in the documentation: https://pandas.pydata.org/pandas-docs/stable/user_guide/indexing.html#returning-a-view-versus-a-copy\n",
            "  X.fillna(X.mean(), inplace=True)\n"
          ]
        },
        {
          "output_type": "stream",
          "name": "stdout",
          "text": [
            "Best Parameters for Random Forest: {'max_depth': None, 'min_samples_leaf': 2, 'min_samples_split': 2, 'n_estimators': 50}\n",
            "Best Score for Random Forest: 0.9821428571428571\n",
            "[LightGBM] [Info] Number of positive: 246, number of negative: 6754\n",
            "[LightGBM] [Info] Auto-choosing col-wise multi-threading, the overhead of testing was 0.000525 seconds.\n",
            "You can set `force_col_wise=true` to remove the overhead.\n",
            "[LightGBM] [Info] Total Bins 923\n",
            "[LightGBM] [Info] Number of data points in the train set: 7000, number of used features: 5\n",
            "[LightGBM] [Info] [binary:BoostFromScore]: pavg=0.035143 -> initscore=-3.312559\n",
            "[LightGBM] [Info] Start training from score -3.312559\n"
          ]
        },
        {
          "output_type": "stream",
          "name": "stderr",
          "text": [
            "/usr/local/lib/python3.12/dist-packages/sklearn/utils/validation.py:2739: UserWarning: X does not have valid feature names, but LGBMClassifier was fitted with feature names\n",
            "  warnings.warn(\n",
            "/usr/local/lib/python3.12/dist-packages/sklearn/utils/validation.py:2739: UserWarning: X does not have valid feature names, but LGBMClassifier was fitted with feature names\n",
            "  warnings.warn(\n",
            "/usr/local/lib/python3.12/dist-packages/xgboost/training.py:183: UserWarning: [17:12:27] WARNING: /workspace/src/learner.cc:738: \n",
            "Parameters: { \"use_label_encoder\" } are not used.\n",
            "\n",
            "  bst.update(dtrain, iteration=i, fobj=obj)\n"
          ]
        },
        {
          "output_type": "stream",
          "name": "stdout",
          "text": [
            "Summary of Evaluation Metrics for All Models:\n",
            "                 Model Accuracy Precision  Recall F1 Score ROC-AUC\n",
            "0  Logistic Regression   0.9740    0.7273  0.2581   0.3810  0.8929\n",
            "1        Decision Tree   0.9800    0.6701  0.6989   0.6842  0.8440\n",
            "2        Random Forest   0.9870    0.8971  0.6559   0.7578  0.9522\n",
            "3    Gradient Boosting   0.9857    0.8571  0.6452   0.7362  0.9691\n",
            "4                  SVM   0.9773    0.9032  0.3011   0.4516  0.9569\n",
            "5       Neural Network   0.9817    0.8065  0.5376   0.6452  0.9692\n",
            "6             LightGBM   0.9843    0.8594  0.5914   0.7006  0.9728\n",
            "7              XGBoost   0.9843    0.8382  0.6129   0.7081  0.9720\n",
            "\n",
            "Best Model based on F1 Score:\n",
            "Model        Random Forest\n",
            "Accuracy            0.9870\n",
            "Precision           0.8971\n",
            "Recall              0.6559\n",
            "F1 Score            0.7578\n",
            "ROC-AUC             0.9522\n",
            "Name: 2, dtype: object\n"
          ]
        },
        {
          "output_type": "display_data",
          "data": {
            "text/plain": [
              "<Figure size 600x400 with 2 Axes>"
            ],
            "image/png": "[encoded data removed]"
          },
          "metadata": {}
        },
        {
          "output_type": "stream",
          "name": "stdout",
          "text": [
            "Predictions from Loaded Model: [0 0 0 ... 0 0 0]\n",
            "Cross-validation scores: [0.973  0.973  0.5675 0.973  0.9805]\n",
            "Mean CV Accuracy: 0.8934\n"
          ]
        }
      ]
    },
    {
      "cell_type": "code",
      "metadata": {
        "colab": {
          "base_uri": "https://localhost:8080/"
        },
        "id": "5c419f3e",
        "outputId": "1bc2e450-473a-49e3-8466-23b527b429c2"
      },
      "source": [
        "!pip install lightgbm xgboost"
      ],
      "execution_count": 1,
      "outputs": [
        {
          "output_type": "stream",
          "name": "stdout",
          "text": [
            "Requirement already satisfied: lightgbm in /usr/local/lib/python3.12/dist-packages (4.6.0)\n",
            "Requirement already satisfied: xgboost in /usr/local/lib/python3.12/dist-packages (3.0.5)\n",
            "Requirement already satisfied: numpy>=1.17.0 in /usr/local/lib/python3.12/dist-packages (from lightgbm) (2.0.2)\n",
            "Requirement already satisfied: scipy in /usr/local/lib/python3.12/dist-packages (from lightgbm) (1.16.2)\n",
            "Requirement already satisfied: nvidia-nccl-cu12 in /usr/local/lib/python3.12/dist-packages (from xgboost) (2.27.3)\n"
          ]
        }
      ]
    }
  ]
}