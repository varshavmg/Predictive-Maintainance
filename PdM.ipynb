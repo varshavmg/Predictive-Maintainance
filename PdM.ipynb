{
  "nbformat": 4,
  "nbformat_minor": 0,
  "metadata": {
    "colab": {
      "provenance": [],
      "gpuType": "T4",
      "include_colab_link": true
    },
    "kernelspec": {
      "name": "python3",
      "display_name": "Python 3"
    },
    "language_info": {
      "name": "python"
    },
    "accelerator": "GPU"
  },
  "cells": [
    {
      "cell_type": "markdown",
      "metadata": {
        "id": "view-in-github",
        "colab_type": "text"
      },
      "source": [
        "<a href=\"https://colab.research.google.com/github/pavankumarv1003/Pdm/blob/main/PdM.ipynb\" target=\"_parent\"><img src=\"https://colab.research.google.com/assets/colab-badge.svg\" alt=\"Open In Colab\"/></a>"
      ]
    },
    {
      "cell_type": "code",
      "source": [
        "import pandas as pd\n",
        "import numpy as np\n",
        "from sklearn.model_selection import train_test_split, GridSearchCV, cross_val_score\n",
        "from sklearn.linear_model import LogisticRegression\n",
        "from sklearn.tree import DecisionTreeClassifier\n",
        "from sklearn.ensemble import RandomForestClassifier, GradientBoostingClassifier\n",
        "from sklearn.svm import SVC\n",
        "from sklearn.neural_network import MLPClassifier\n",
        "from sklearn.preprocessing import StandardScaler\n",
        "from sklearn.metrics import classification_report, accuracy_score, precision_score, recall_score, f1_score, roc_auc_score, confusion_matrix\n",
        "import matplotlib.pyplot as plt\n",
        "import seaborn as sns\n",
        "import joblib\n",
        "\n",
        "# Step 1: Load Data\n",
        "path = '/content/predictive_maintenance.csv'\n",
        "data = pd.read_csv(path)\n",
        "\n",
        "# Features and Target Variable\n",
        "X = data[['Air temperature [K]', 'Process temperature [K]', 'Rotational speed [rpm]', 'Torque [Nm]', 'Tool wear [min]']]\n",
        "y = data['Target']\n",
        "\n",
        "# Step 2: Data Preprocessing\n",
        "# Handle missing values (if any)\n",
        "X.fillna(X.mean(), inplace=True)\n",
        "\n",
        "# Feature Scaling\n",
        "scaler = StandardScaler()\n",
        "X_scaled = scaler.fit_transform(X)\n",
        "\n",
        "# Save the scaler for future use\n",
        "joblib.dump(scaler, \"scaler.pkl\")\n",
        "\n",
        "# Step 3: Train-Test Split\n",
        "X_train, X_test, y_train, y_test = train_test_split(X_scaled, y, test_size=0.3, random_state=42)\n",
        "\n",
        "# Step 4: Initialize Models\n",
        "models = {\n",
        "    \"Logistic Regression\": LogisticRegression(max_iter=1000, random_state=42),\n",
        "    \"Decision Tree\": DecisionTreeClassifier(random_state=42),\n",
        "    \"Random Forest\": RandomForestClassifier(random_state=42),\n",
        "    \"Gradient Boosting\": GradientBoostingClassifier(random_state=42),\n",
        "    \"SVM\": SVC(probability=True, random_state=42),\n",
        "    \"Neural Network\": MLPClassifier(max_iter=500, random_state=42)\n",
        "}\n",
        "\n",
        "# Step 5: Train Models and Perform Hyperparameter Tuning (Grid Search for Random Forest)\n",
        "param_grid_rf = {\n",
        "    \"n_estimators\": [50, 100, 200],\n",
        "    \"max_depth\": [None, 10, 20, 30],\n",
        "    \"min_samples_split\": [2, 5, 10],\n",
        "    \"min_samples_leaf\": [1, 2, 4]\n",
        "}\n",
        "\n",
        "grid_search_rf = GridSearchCV(\n",
        "    estimator=RandomForestClassifier(random_state=42),\n",
        "    param_grid=param_grid_rf,\n",
        "    cv=5,  # 5-fold cross-validation\n",
        "    scoring=\"accuracy\",\n",
        "    verbose=2,\n",
        "    n_jobs=-1\n",
        ")\n",
        "grid_search_rf.fit(X_train, y_train)\n",
        "print(\"Best Parameters for Random Forest:\", grid_search_rf.best_params_)\n",
        "print(\"Best Score for Random Forest:\", grid_search_rf.best_score_)\n",
        "\n",
        "# Step 6: Evaluate Models\n",
        "best_rf_model = grid_search_rf.best_estimator_\n",
        "\n",
        "results = []\n",
        "for name, model in models.items():\n",
        "    # Train the model\n",
        "    model.fit(X_train, y_train)\n",
        "    # Predict on the test set\n",
        "    y_pred = model.predict(X_test)\n",
        "    y_pred_proba = model.predict_proba(X_test)[:, 1] if hasattr(model, \"predict_proba\") else None\n",
        "\n",
        "    # Metrics\n",
        "    accuracy = accuracy_score(y_test, y_pred)\n",
        "    precision = precision_score(y_test, y_pred, average=\"binary\")\n",
        "    recall = recall_score(y_test, y_pred, average=\"binary\")\n",
        "    f1 = f1_score(y_test, y_pred, average=\"binary\")\n",
        "    roc_auc = roc_auc_score(y_test, y_pred_proba) if y_pred_proba is not None else None\n",
        "\n",
        "    # Append results to a summary list\n",
        "    results.append({\n",
        "        \"Model\": name,\n",
        "        \"Accuracy\": f\"{accuracy:.4f}\",\n",
        "        \"Precision\": f\"{precision:.4f}\",\n",
        "        \"Recall\": f\"{recall:.4f}\",\n",
        "        \"F1 Score\": f\"{f1:.4f}\",\n",
        "        \"ROC-AUC\": f\"{roc_auc:.4f}\" if roc_auc is not None else \"N/A\"\n",
        "    })\n",
        "\n",
        "# Display results in a tabular format\n",
        "results_df = pd.DataFrame(results)\n",
        "print(\"Summary of Evaluation Metrics for All Models:\")\n",
        "print(results_df)\n",
        "\n",
        "# Highlight the best performing model based on F1 Score\n",
        "best_model = results_df.loc[results_df[\"F1 Score\"].astype(float).idxmax()]\n",
        "print(\"\\nBest Model based on F1 Score:\")\n",
        "print(best_model)\n",
        "\n",
        "# Plot Confusion Matrix for the Best Model (Random Forest as an example)\n",
        "cm = confusion_matrix(y_test, best_rf_model.predict(X_test))\n",
        "plt.figure(figsize=(6, 4))\n",
        "sns.heatmap(cm, annot=True, fmt='d', cmap='Blues', xticklabels=[\"No Failure\", \"Failure\"], yticklabels=[\"No Failure\", \"Failure\"])\n",
        "plt.title('Confusion Matrix: Best Random Forest Model')\n",
        "plt.ylabel('Actual')\n",
        "plt.xlabel('Predicted')\n",
        "plt.show()\n",
        "\n",
        "# Save the best model\n",
        "joblib.dump(best_rf_model, \"best_random_forest_model.pkl\")\n",
        "\n",
        "# Load and predict using the saved model\n",
        "loaded_model = joblib.load(\"best_random_forest_model.pkl\")\n",
        "new_predictions = loaded_model.predict(X_test)\n",
        "print(\"Predictions from Loaded Model:\", new_predictions)\n",
        "\n",
        "# Step 7: Cross-Validation\n",
        "cv_scores = cross_val_score(best_rf_model, X_scaled, y, cv=5, scoring=\"accuracy\")\n",
        "print(\"Cross-validation scores:\", cv_scores)\n",
        "print(\"Mean CV Accuracy:\", cv_scores.mean())"
      ],
      "metadata": {
        "id": "n7nWpXAaGtOA",
        "colab": {
          "base_uri": "https://localhost:8080/",
          "height": 916
        },
        "outputId": "beb2c914-9beb-417f-8e08-1fcd981bb990"
      },
      "execution_count": null,
      "outputs": [
        {
          "output_type": "stream",
          "name": "stdout",
          "text": [
            "Fitting 5 folds for each of 108 candidates, totalling 540 fits\n"
          ]
        },
        {
          "output_type": "stream",
          "name": "stderr",
          "text": [
            "<ipython-input-1-ae9daffd18a8>:25: SettingWithCopyWarning: \n",
            "A value is trying to be set on a copy of a slice from a DataFrame\n",
            "\n",
            "See the caveats in the documentation: https://pandas.pydata.org/pandas-docs/stable/user_guide/indexing.html#returning-a-view-versus-a-copy\n",
            "  X.fillna(X.mean(), inplace=True)\n"
          ]
        },
        {
          "output_type": "stream",
          "name": "stdout",
          "text": [
            "Best Parameters for Random Forest: {'max_depth': None, 'min_samples_leaf': 2, 'min_samples_split': 2, 'n_estimators': 50}\n",
            "Best Score for Random Forest: 0.9821428571428571\n",
            "Summary of Evaluation Metrics for All Models:\n",
            "                 Model Accuracy Precision  Recall F1 Score ROC-AUC\n",
            "0  Logistic Regression   0.9740    0.7273  0.2581   0.3810  0.8929\n",
            "1        Decision Tree   0.9800    0.6701  0.6989   0.6842  0.8440\n",
            "2        Random Forest   0.9870    0.8971  0.6559   0.7578  0.9522\n",
            "3    Gradient Boosting   0.9857    0.8571  0.6452   0.7362  0.9691\n",
            "4                  SVM   0.9773    0.9032  0.3011   0.4516  0.9569\n",
            "5       Neural Network   0.9817    0.8065  0.5376   0.6452  0.9692\n",
            "\n",
            "Best Model based on F1 Score:\n",
            "Model        Random Forest\n",
            "Accuracy            0.9870\n",
            "Precision           0.8971\n",
            "Recall              0.6559\n",
            "F1 Score            0.7578\n",
            "ROC-AUC             0.9522\n",
            "Name: 2, dtype: object\n"
          ]
        },
        {
          "output_type": "display_data",
          "data": {
            "text/plain": [
              "<Figure size 600x400 with 2 Axes>"
            ],
            "image/png": "[encoded data removed]"
          },
          "metadata": {}
        },
        {
          "output_type": "stream",
          "name": "stdout",
          "text": [
            "Predictions from Loaded Model: [0 0 0 ... 0 0 0]\n",
            "Cross-validation scores: [0.973  0.973  0.5675 0.973  0.9805]\n",
            "Mean CV Accuracy: 0.8934\n"
          ]
        }
      ]
    }
  ]
}